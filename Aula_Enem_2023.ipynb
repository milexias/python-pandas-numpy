{
  "nbformat": 4,
  "nbformat_minor": 0,
  "metadata": {
    "colab": {
      "provenance": []
    },
    "kernelspec": {
      "name": "python3",
      "display_name": "Python 3"
    },
    "language_info": {
      "name": "python"
    }
  },
  "cells": [
    {
      "cell_type": "markdown",
      "source": [
        "#**Introdução a Análise Exploratória dos Dados (EDA)**"
      ],
      "metadata": {
        "id": "l5VookbR4W9c"
      }
    },
    {
      "cell_type": "markdown",
      "source": [
        "Este notebook tem como propósito realizar uma análise exploratória da base de dados fictícia do ENEM 2023 (enem_2023.json).\n",
        "O nosso objetivo é compreender os resultados por meio de técnicas estatísticas e visuais, proporcionando insights e uma base sólida para análises mais avançadas.\n",
        "\n",
        "\n",
        "**Metodologia:**\n",
        "\n",
        "* **Análise de Frequência:** Exploraremos a distribuição dos dados para identificar\n",
        "padrões e tendências.\n",
        "* **Análise de Dispersão:** Aplicaremos medidas estatísticas para compreender a variabilidade dos resultados.\n",
        "* **Matriz de Correlação:** Investigaremos as relações entre diferentes variáveis para destacar possíveis associações.\n",
        "* **Simulação de Ingresso:** Simularemos um processo de ingresso no curso de Ciências da Computação na UFRGS, considerando pesos específicos para cada disciplina.\n",
        "* **Visualização de Quartis e Outliers:** Utilizaremos gráficos para visualizar a distribuição estatística, destacando quartis e identificando possíveis outliers.\n",
        "* **Tratamento de Dados Nulos:** Abordaremos a identificação e correção de valores nulos para assegurar a qualidade dos dados.\n",
        "\n",
        "Nota: Ressaltamos que os dados utilizados são fictícios, e a simulação de ingresso é baseada na suposição do peso de cada disciplina."
      ],
      "metadata": {
        "id": "z_DEFnAk4cME"
      }
    },
    {
      "cell_type": "code",
      "source": [
        "import pandas as pd\n",
        "import numpy as np\n",
        "import seaborn as sns\n",
        "import matplotlib.pyplot as plt\n",
        "\n",
        "import warnings\n",
        "warnings.filterwarnings(\"ignore\")"
      ],
      "metadata": {
        "id": "aNNXj-hA_zMu"
      },
      "execution_count": 2,
      "outputs": []
    },
    {
      "cell_type": "code",
      "source": [
        "import json\n",
        "import requests\n",
        "# pip install requests\n",
        "\n",
        "url = \"https://import.cdn.thinkific.com/401289/gQbVuYr9TaimUX9dQAqV_enem_2023.json\"\n",
        "\n",
        "response = requests.get(url) # Realiza a requisição GET para obter o conteúdo do JSON\n",
        "\n",
        "json_data = response.json()    # O conteúdo do JSON estará em response.json()\n",
        "df = pd.DataFrame(json_data)\n",
        "\n",
        "df.reset_index(drop=True, inplace=True)\n",
        "df.head(3)"
      ],
      "metadata": {
        "colab": {
          "base_uri": "https://localhost:8080/",
          "height": 143
        },
        "id": "Rv7cl1OwB_gI",
        "outputId": "e69888c6-3ad5-4c62-d89c-9323ae626191"
      },
      "execution_count": 3,
      "outputs": [
        {
          "output_type": "execute_result",
          "data": {
            "text/plain": [
              "   Linguagens  Ciências humanas  Ciências da natureza  Matemática     Redação  \\\n",
              "0  585.669300        686.512178            390.482473  452.281333  546.371706   \n",
              "1  359.384608        642.084134                   NaN  412.205207  741.825256   \n",
              "2  622.732384        495.510719            443.183580  669.683401  684.515750   \n",
              "\n",
              "     Sexo  \n",
              "0   Homem  \n",
              "1  Mulher  \n",
              "2   Homem  "
            ],
            "text/html": [
              "\n",
              "  <div id=\"df-eff90ed3-9762-4112-a30f-3a791561e331\" class=\"colab-df-container\">\n",
              "    <div>\n",
              "<style scoped>\n",
              "    .dataframe tbody tr th:only-of-type {\n",
              "        vertical-align: middle;\n",
              "    }\n",
              "\n",
              "    .dataframe tbody tr th {\n",
              "        vertical-align: top;\n",
              "    }\n",
              "\n",
              "    .dataframe thead th {\n",
              "        text-align: right;\n",
              "    }\n",
              "</style>\n",
              "<table border=\"1\" class=\"dataframe\">\n",
              "  <thead>\n",
              "    <tr style=\"text-align: right;\">\n",
              "      <th></th>\n",
              "      <th>Linguagens</th>\n",
              "      <th>Ciências humanas</th>\n",
              "      <th>Ciências da natureza</th>\n",
              "      <th>Matemática</th>\n",
              "      <th>Redação</th>\n",
              "      <th>Sexo</th>\n",
              "    </tr>\n",
              "  </thead>\n",
              "  <tbody>\n",
              "    <tr>\n",
              "      <th>0</th>\n",
              "      <td>585.669300</td>\n",
              "      <td>686.512178</td>\n",
              "      <td>390.482473</td>\n",
              "      <td>452.281333</td>\n",
              "      <td>546.371706</td>\n",
              "      <td>Homem</td>\n",
              "    </tr>\n",
              "    <tr>\n",
              "      <th>1</th>\n",
              "      <td>359.384608</td>\n",
              "      <td>642.084134</td>\n",
              "      <td>NaN</td>\n",
              "      <td>412.205207</td>\n",
              "      <td>741.825256</td>\n",
              "      <td>Mulher</td>\n",
              "    </tr>\n",
              "    <tr>\n",
              "      <th>2</th>\n",
              "      <td>622.732384</td>\n",
              "      <td>495.510719</td>\n",
              "      <td>443.183580</td>\n",
              "      <td>669.683401</td>\n",
              "      <td>684.515750</td>\n",
              "      <td>Homem</td>\n",
              "    </tr>\n",
              "  </tbody>\n",
              "</table>\n",
              "</div>\n",
              "    <div class=\"colab-df-buttons\">\n",
              "\n",
              "  <div class=\"colab-df-container\">\n",
              "    <button class=\"colab-df-convert\" onclick=\"convertToInteractive('df-eff90ed3-9762-4112-a30f-3a791561e331')\"\n",
              "            title=\"Convert this dataframe to an interactive table.\"\n",
              "            style=\"display:none;\">\n",
              "\n",
              "  <svg xmlns=\"http://www.w3.org/2000/svg\" height=\"24px\" viewBox=\"0 -960 960 960\">\n",
              "    <path d=\"M120-120v-720h720v720H120Zm60-500h600v-160H180v160Zm220 220h160v-160H400v160Zm0 220h160v-160H400v160ZM180-400h160v-160H180v160Zm440 0h160v-160H620v160ZM180-180h160v-160H180v160Zm440 0h160v-160H620v160Z\"/>\n",
              "  </svg>\n",
              "    </button>\n",
              "\n",
              "  <style>\n",
              "    .colab-df-container {\n",
              "      display:flex;\n",
              "      gap: 12px;\n",
              "    }\n",
              "\n",
              "    .colab-df-convert {\n",
              "      background-color: #E8F0FE;\n",
              "      border: none;\n",
              "      border-radius: 50%;\n",
              "      cursor: pointer;\n",
              "      display: none;\n",
              "      fill: #1967D2;\n",
              "      height: 32px;\n",
              "      padding: 0 0 0 0;\n",
              "      width: 32px;\n",
              "    }\n",
              "\n",
              "    .colab-df-convert:hover {\n",
              "      background-color: #E2EBFA;\n",
              "      box-shadow: 0px 1px 2px rgba(60, 64, 67, 0.3), 0px 1px 3px 1px rgba(60, 64, 67, 0.15);\n",
              "      fill: #174EA6;\n",
              "    }\n",
              "\n",
              "    .colab-df-buttons div {\n",
              "      margin-bottom: 4px;\n",
              "    }\n",
              "\n",
              "    [theme=dark] .colab-df-convert {\n",
              "      background-color: #3B4455;\n",
              "      fill: #D2E3FC;\n",
              "    }\n",
              "\n",
              "    [theme=dark] .colab-df-convert:hover {\n",
              "      background-color: #434B5C;\n",
              "      box-shadow: 0px 1px 3px 1px rgba(0, 0, 0, 0.15);\n",
              "      filter: drop-shadow(0px 1px 2px rgba(0, 0, 0, 0.3));\n",
              "      fill: #FFFFFF;\n",
              "    }\n",
              "  </style>\n",
              "\n",
              "    <script>\n",
              "      const buttonEl =\n",
              "        document.querySelector('#df-eff90ed3-9762-4112-a30f-3a791561e331 button.colab-df-convert');\n",
              "      buttonEl.style.display =\n",
              "        google.colab.kernel.accessAllowed ? 'block' : 'none';\n",
              "\n",
              "      async function convertToInteractive(key) {\n",
              "        const element = document.querySelector('#df-eff90ed3-9762-4112-a30f-3a791561e331');\n",
              "        const dataTable =\n",
              "          await google.colab.kernel.invokeFunction('convertToInteractive',\n",
              "                                                    [key], {});\n",
              "        if (!dataTable) return;\n",
              "\n",
              "        const docLinkHtml = 'Like what you see? Visit the ' +\n",
              "          '<a target=\"_blank\" href=https://colab.research.google.com/notebooks/data_table.ipynb>data table notebook</a>'\n",
              "          + ' to learn more about interactive tables.';\n",
              "        element.innerHTML = '';\n",
              "        dataTable['output_type'] = 'display_data';\n",
              "        await google.colab.output.renderOutput(dataTable, element);\n",
              "        const docLink = document.createElement('div');\n",
              "        docLink.innerHTML = docLinkHtml;\n",
              "        element.appendChild(docLink);\n",
              "      }\n",
              "    </script>\n",
              "  </div>\n",
              "\n",
              "\n",
              "<div id=\"df-b60e09a2-c691-4550-a39f-8a5c84bdc5be\">\n",
              "  <button class=\"colab-df-quickchart\" onclick=\"quickchart('df-b60e09a2-c691-4550-a39f-8a5c84bdc5be')\"\n",
              "            title=\"Suggest charts\"\n",
              "            style=\"display:none;\">\n",
              "\n",
              "<svg xmlns=\"http://www.w3.org/2000/svg\" height=\"24px\"viewBox=\"0 0 24 24\"\n",
              "     width=\"24px\">\n",
              "    <g>\n",
              "        <path d=\"M19 3H5c-1.1 0-2 .9-2 2v14c0 1.1.9 2 2 2h14c1.1 0 2-.9 2-2V5c0-1.1-.9-2-2-2zM9 17H7v-7h2v7zm4 0h-2V7h2v10zm4 0h-2v-4h2v4z\"/>\n",
              "    </g>\n",
              "</svg>\n",
              "  </button>\n",
              "\n",
              "<style>\n",
              "  .colab-df-quickchart {\n",
              "      --bg-color: #E8F0FE;\n",
              "      --fill-color: #1967D2;\n",
              "      --hover-bg-color: #E2EBFA;\n",
              "      --hover-fill-color: #174EA6;\n",
              "      --disabled-fill-color: #AAA;\n",
              "      --disabled-bg-color: #DDD;\n",
              "  }\n",
              "\n",
              "  [theme=dark] .colab-df-quickchart {\n",
              "      --bg-color: #3B4455;\n",
              "      --fill-color: #D2E3FC;\n",
              "      --hover-bg-color: #434B5C;\n",
              "      --hover-fill-color: #FFFFFF;\n",
              "      --disabled-bg-color: #3B4455;\n",
              "      --disabled-fill-color: #666;\n",
              "  }\n",
              "\n",
              "  .colab-df-quickchart {\n",
              "    background-color: var(--bg-color);\n",
              "    border: none;\n",
              "    border-radius: 50%;\n",
              "    cursor: pointer;\n",
              "    display: none;\n",
              "    fill: var(--fill-color);\n",
              "    height: 32px;\n",
              "    padding: 0;\n",
              "    width: 32px;\n",
              "  }\n",
              "\n",
              "  .colab-df-quickchart:hover {\n",
              "    background-color: var(--hover-bg-color);\n",
              "    box-shadow: 0 1px 2px rgba(60, 64, 67, 0.3), 0 1px 3px 1px rgba(60, 64, 67, 0.15);\n",
              "    fill: var(--button-hover-fill-color);\n",
              "  }\n",
              "\n",
              "  .colab-df-quickchart-complete:disabled,\n",
              "  .colab-df-quickchart-complete:disabled:hover {\n",
              "    background-color: var(--disabled-bg-color);\n",
              "    fill: var(--disabled-fill-color);\n",
              "    box-shadow: none;\n",
              "  }\n",
              "\n",
              "  .colab-df-spinner {\n",
              "    border: 2px solid var(--fill-color);\n",
              "    border-color: transparent;\n",
              "    border-bottom-color: var(--fill-color);\n",
              "    animation:\n",
              "      spin 1s steps(1) infinite;\n",
              "  }\n",
              "\n",
              "  @keyframes spin {\n",
              "    0% {\n",
              "      border-color: transparent;\n",
              "      border-bottom-color: var(--fill-color);\n",
              "      border-left-color: var(--fill-color);\n",
              "    }\n",
              "    20% {\n",
              "      border-color: transparent;\n",
              "      border-left-color: var(--fill-color);\n",
              "      border-top-color: var(--fill-color);\n",
              "    }\n",
              "    30% {\n",
              "      border-color: transparent;\n",
              "      border-left-color: var(--fill-color);\n",
              "      border-top-color: var(--fill-color);\n",
              "      border-right-color: var(--fill-color);\n",
              "    }\n",
              "    40% {\n",
              "      border-color: transparent;\n",
              "      border-right-color: var(--fill-color);\n",
              "      border-top-color: var(--fill-color);\n",
              "    }\n",
              "    60% {\n",
              "      border-color: transparent;\n",
              "      border-right-color: var(--fill-color);\n",
              "    }\n",
              "    80% {\n",
              "      border-color: transparent;\n",
              "      border-right-color: var(--fill-color);\n",
              "      border-bottom-color: var(--fill-color);\n",
              "    }\n",
              "    90% {\n",
              "      border-color: transparent;\n",
              "      border-bottom-color: var(--fill-color);\n",
              "    }\n",
              "  }\n",
              "</style>\n",
              "\n",
              "  <script>\n",
              "    async function quickchart(key) {\n",
              "      const quickchartButtonEl =\n",
              "        document.querySelector('#' + key + ' button');\n",
              "      quickchartButtonEl.disabled = true;  // To prevent multiple clicks.\n",
              "      quickchartButtonEl.classList.add('colab-df-spinner');\n",
              "      try {\n",
              "        const charts = await google.colab.kernel.invokeFunction(\n",
              "            'suggestCharts', [key], {});\n",
              "      } catch (error) {\n",
              "        console.error('Error during call to suggestCharts:', error);\n",
              "      }\n",
              "      quickchartButtonEl.classList.remove('colab-df-spinner');\n",
              "      quickchartButtonEl.classList.add('colab-df-quickchart-complete');\n",
              "    }\n",
              "    (() => {\n",
              "      let quickchartButtonEl =\n",
              "        document.querySelector('#df-b60e09a2-c691-4550-a39f-8a5c84bdc5be button');\n",
              "      quickchartButtonEl.style.display =\n",
              "        google.colab.kernel.accessAllowed ? 'block' : 'none';\n",
              "    })();\n",
              "  </script>\n",
              "</div>\n",
              "\n",
              "    </div>\n",
              "  </div>\n"
            ],
            "application/vnd.google.colaboratory.intrinsic+json": {
              "type": "dataframe",
              "variable_name": "df",
              "summary": "{\n  \"name\": \"df\",\n  \"rows\": 1000,\n  \"fields\": [\n    {\n      \"column\": \"Linguagens\",\n      \"properties\": {\n        \"dtype\": \"number\",\n        \"std\": 84.00931315971195,\n        \"min\": 287.0,\n        \"max\": 804.4563171927,\n        \"num_unique_values\": 896,\n        \"samples\": [\n          638.5729576994,\n          458.5772735297,\n          469.6368972844\n        ],\n        \"semantic_type\": \"\",\n        \"description\": \"\"\n      }\n    },\n    {\n      \"column\": \"Ci\\u00eancias humanas\",\n      \"properties\": {\n        \"dtype\": \"number\",\n        \"std\": 77.81151916399475,\n        \"min\": 289.9,\n        \"max\": 763.9196954613,\n        \"num_unique_values\": 935,\n        \"samples\": [\n          552.953806862,\n          648.4281845758,\n          519.0714634707\n        ],\n        \"semantic_type\": \"\",\n        \"description\": \"\"\n      }\n    },\n    {\n      \"column\": \"Ci\\u00eancias da natureza\",\n      \"properties\": {\n        \"dtype\": \"number\",\n        \"std\": 78.76040369093829,\n        \"min\": 314.4,\n        \"max\": 802.0045683513,\n        \"num_unique_values\": 821,\n        \"samples\": [\n          472.110329659,\n          468.0927320977,\n          391.1238460543\n        ],\n        \"semantic_type\": \"\",\n        \"description\": \"\"\n      }\n    },\n    {\n      \"column\": \"Matem\\u00e1tica\",\n      \"properties\": {\n        \"dtype\": \"number\",\n        \"std\": 86.64810003261275,\n        \"min\": 319.8,\n        \"max\": 807.8779018921,\n        \"num_unique_values\": 918,\n        \"samples\": [\n          577.6921115123,\n          562.8560894807,\n          464.1971411718\n        ],\n        \"semantic_type\": \"\",\n        \"description\": \"\"\n      }\n    },\n    {\n      \"column\": \"Reda\\u00e7\\u00e3o\",\n      \"properties\": {\n        \"dtype\": \"number\",\n        \"std\": 115.33997244479161,\n        \"min\": 270.8399648605,\n        \"max\": 1000.0,\n        \"num_unique_values\": 860,\n        \"samples\": [\n          482.1791420587,\n          687.1614107203,\n          572.6498716449\n        ],\n        \"semantic_type\": \"\",\n        \"description\": \"\"\n      }\n    },\n    {\n      \"column\": \"Sexo\",\n      \"properties\": {\n        \"dtype\": \"category\",\n        \"num_unique_values\": 3,\n        \"samples\": [\n          \"Homem\",\n          \"Mulher\",\n          \"N\\u00e3o idenficado\"\n        ],\n        \"semantic_type\": \"\",\n        \"description\": \"\"\n      }\n    }\n  ]\n}"
            }
          },
          "metadata": {},
          "execution_count": 3
        }
      ]
    },
    {
      "cell_type": "markdown",
      "source": [
        "### Conhecendo os dados"
      ],
      "metadata": {
        "id": "keLPUaNarCcM"
      }
    },
    {
      "cell_type": "code",
      "source": [
        "# Informações de colunas e tipo de dados\n",
        "df.info()"
      ],
      "metadata": {
        "colab": {
          "base_uri": "https://localhost:8080/"
        },
        "id": "wW7xL8FKGS0l",
        "outputId": "2be6470f-e238-4431-a951-4a5f7e5cd5d4"
      },
      "execution_count": 23,
      "outputs": [
        {
          "output_type": "stream",
          "name": "stdout",
          "text": [
            "<class 'pandas.core.frame.DataFrame'>\n",
            "RangeIndex: 1000 entries, 0 to 999\n",
            "Data columns (total 6 columns):\n",
            " #   Column                Non-Null Count  Dtype  \n",
            "---  ------                --------------  -----  \n",
            " 0   Linguagens            897 non-null    float64\n",
            " 1   Ciências humanas      936 non-null    float64\n",
            " 2   Ciências da natureza  824 non-null    float64\n",
            " 3   Matemática            924 non-null    float64\n",
            " 4   Redação               860 non-null    float64\n",
            " 5   Sexo                  1000 non-null   object \n",
            "dtypes: float64(5), object(1)\n",
            "memory usage: 47.0+ KB\n"
          ]
        }
      ]
    },
    {
      "cell_type": "code",
      "source": [
        "df.isna().sum() ## Dados faltantes"
      ],
      "metadata": {
        "colab": {
          "base_uri": "https://localhost:8080/"
        },
        "id": "Rgdq0NBlfR-2",
        "outputId": "cf33324a-7e8f-4bce-82d0-f12efe5cd7ef"
      },
      "execution_count": 5,
      "outputs": [
        {
          "output_type": "execute_result",
          "data": {
            "text/plain": [
              "Linguagens              103\n",
              "Ciências humanas         64\n",
              "Ciências da natureza    176\n",
              "Matemática               76\n",
              "Redação                 140\n",
              "Sexo                      0\n",
              "dtype: int64"
            ]
          },
          "metadata": {},
          "execution_count": 5
        }
      ]
    },
    {
      "cell_type": "code",
      "source": [
        "# Verificando o tamanho da base de dados\n",
        "\n",
        "print(f'A base de dados possui {df.shape[0]} linhas e {df.shape[1]} colunas.')"
      ],
      "metadata": {
        "colab": {
          "base_uri": "https://localhost:8080/"
        },
        "id": "Sek2m6XuuDAS",
        "outputId": "6adce83a-4f61-4380-be19-a7ccb1624475"
      },
      "execution_count": 24,
      "outputs": [
        {
          "output_type": "stream",
          "name": "stdout",
          "text": [
            "A base de dados possui 1000 linhas e 6 colunas.\n"
          ]
        }
      ]
    },
    {
      "cell_type": "markdown",
      "source": [
        "O dado possui 6 colunas, 5 delas representam as disciplinas do ENEM e uma o gênero das pessoas que fizeram a prova. No dataset existe a representação de 1000 pessoas, sendo cada uma delas uma linha."
      ],
      "metadata": {
        "id": "x3uenNFfOmim"
      }
    },
    {
      "cell_type": "markdown",
      "source": [
        "### **Análise de Dispersão, Variabilidade e Distribuição de Dados**"
      ],
      "metadata": {
        "id": "PbsjvqiWPUxl"
      }
    },
    {
      "cell_type": "code",
      "source": [
        "df.describe()"
      ],
      "metadata": {
        "colab": {
          "base_uri": "https://localhost:8080/",
          "height": 300
        },
        "id": "8curV4jD_C-f",
        "outputId": "b23fcbbe-e656-472b-8855-7039c74b5c40"
      },
      "execution_count": 6,
      "outputs": [
        {
          "output_type": "execute_result",
          "data": {
            "text/plain": [
              "       Linguagens  Ciências humanas  Ciências da natureza  Matemática  \\\n",
              "count  897.000000        936.000000            824.000000  924.000000   \n",
              "mean   514.524809        527.042281            499.315583  535.965660   \n",
              "std     84.009313         77.811519             78.760404   86.648100   \n",
              "min    287.000000        289.900000            314.400000  319.800000   \n",
              "25%    458.360558        475.424546            444.709076  479.172971   \n",
              "50%    515.045250        524.519920            500.479263  533.247767   \n",
              "75%    571.635876        581.401952            548.751678  592.912963   \n",
              "max    804.456317        763.919695            802.004568  807.877902   \n",
              "\n",
              "           Redação  \n",
              "count   860.000000  \n",
              "mean    637.783532  \n",
              "std     115.339972  \n",
              "min     270.839965  \n",
              "25%     556.468366  \n",
              "50%     635.273973  \n",
              "75%     715.989868  \n",
              "max    1000.000000  "
            ],
            "text/html": [
              "\n",
              "  <div id=\"df-51e8e70c-81d7-4f46-b02d-6b60dd19e419\" class=\"colab-df-container\">\n",
              "    <div>\n",
              "<style scoped>\n",
              "    .dataframe tbody tr th:only-of-type {\n",
              "        vertical-align: middle;\n",
              "    }\n",
              "\n",
              "    .dataframe tbody tr th {\n",
              "        vertical-align: top;\n",
              "    }\n",
              "\n",
              "    .dataframe thead th {\n",
              "        text-align: right;\n",
              "    }\n",
              "</style>\n",
              "<table border=\"1\" class=\"dataframe\">\n",
              "  <thead>\n",
              "    <tr style=\"text-align: right;\">\n",
              "      <th></th>\n",
              "      <th>Linguagens</th>\n",
              "      <th>Ciências humanas</th>\n",
              "      <th>Ciências da natureza</th>\n",
              "      <th>Matemática</th>\n",
              "      <th>Redação</th>\n",
              "    </tr>\n",
              "  </thead>\n",
              "  <tbody>\n",
              "    <tr>\n",
              "      <th>count</th>\n",
              "      <td>897.000000</td>\n",
              "      <td>936.000000</td>\n",
              "      <td>824.000000</td>\n",
              "      <td>924.000000</td>\n",
              "      <td>860.000000</td>\n",
              "    </tr>\n",
              "    <tr>\n",
              "      <th>mean</th>\n",
              "      <td>514.524809</td>\n",
              "      <td>527.042281</td>\n",
              "      <td>499.315583</td>\n",
              "      <td>535.965660</td>\n",
              "      <td>637.783532</td>\n",
              "    </tr>\n",
              "    <tr>\n",
              "      <th>std</th>\n",
              "      <td>84.009313</td>\n",
              "      <td>77.811519</td>\n",
              "      <td>78.760404</td>\n",
              "      <td>86.648100</td>\n",
              "      <td>115.339972</td>\n",
              "    </tr>\n",
              "    <tr>\n",
              "      <th>min</th>\n",
              "      <td>287.000000</td>\n",
              "      <td>289.900000</td>\n",
              "      <td>314.400000</td>\n",
              "      <td>319.800000</td>\n",
              "      <td>270.839965</td>\n",
              "    </tr>\n",
              "    <tr>\n",
              "      <th>25%</th>\n",
              "      <td>458.360558</td>\n",
              "      <td>475.424546</td>\n",
              "      <td>444.709076</td>\n",
              "      <td>479.172971</td>\n",
              "      <td>556.468366</td>\n",
              "    </tr>\n",
              "    <tr>\n",
              "      <th>50%</th>\n",
              "      <td>515.045250</td>\n",
              "      <td>524.519920</td>\n",
              "      <td>500.479263</td>\n",
              "      <td>533.247767</td>\n",
              "      <td>635.273973</td>\n",
              "    </tr>\n",
              "    <tr>\n",
              "      <th>75%</th>\n",
              "      <td>571.635876</td>\n",
              "      <td>581.401952</td>\n",
              "      <td>548.751678</td>\n",
              "      <td>592.912963</td>\n",
              "      <td>715.989868</td>\n",
              "    </tr>\n",
              "    <tr>\n",
              "      <th>max</th>\n",
              "      <td>804.456317</td>\n",
              "      <td>763.919695</td>\n",
              "      <td>802.004568</td>\n",
              "      <td>807.877902</td>\n",
              "      <td>1000.000000</td>\n",
              "    </tr>\n",
              "  </tbody>\n",
              "</table>\n",
              "</div>\n",
              "    <div class=\"colab-df-buttons\">\n",
              "\n",
              "  <div class=\"colab-df-container\">\n",
              "    <button class=\"colab-df-convert\" onclick=\"convertToInteractive('df-51e8e70c-81d7-4f46-b02d-6b60dd19e419')\"\n",
              "            title=\"Convert this dataframe to an interactive table.\"\n",
              "            style=\"display:none;\">\n",
              "\n",
              "  <svg xmlns=\"http://www.w3.org/2000/svg\" height=\"24px\" viewBox=\"0 -960 960 960\">\n",
              "    <path d=\"M120-120v-720h720v720H120Zm60-500h600v-160H180v160Zm220 220h160v-160H400v160Zm0 220h160v-160H400v160ZM180-400h160v-160H180v160Zm440 0h160v-160H620v160ZM180-180h160v-160H180v160Zm440 0h160v-160H620v160Z\"/>\n",
              "  </svg>\n",
              "    </button>\n",
              "\n",
              "  <style>\n",
              "    .colab-df-container {\n",
              "      display:flex;\n",
              "      gap: 12px;\n",
              "    }\n",
              "\n",
              "    .colab-df-convert {\n",
              "      background-color: #E8F0FE;\n",
              "      border: none;\n",
              "      border-radius: 50%;\n",
              "      cursor: pointer;\n",
              "      display: none;\n",
              "      fill: #1967D2;\n",
              "      height: 32px;\n",
              "      padding: 0 0 0 0;\n",
              "      width: 32px;\n",
              "    }\n",
              "\n",
              "    .colab-df-convert:hover {\n",
              "      background-color: #E2EBFA;\n",
              "      box-shadow: 0px 1px 2px rgba(60, 64, 67, 0.3), 0px 1px 3px 1px rgba(60, 64, 67, 0.15);\n",
              "      fill: #174EA6;\n",
              "    }\n",
              "\n",
              "    .colab-df-buttons div {\n",
              "      margin-bottom: 4px;\n",
              "    }\n",
              "\n",
              "    [theme=dark] .colab-df-convert {\n",
              "      background-color: #3B4455;\n",
              "      fill: #D2E3FC;\n",
              "    }\n",
              "\n",
              "    [theme=dark] .colab-df-convert:hover {\n",
              "      background-color: #434B5C;\n",
              "      box-shadow: 0px 1px 3px 1px rgba(0, 0, 0, 0.15);\n",
              "      filter: drop-shadow(0px 1px 2px rgba(0, 0, 0, 0.3));\n",
              "      fill: #FFFFFF;\n",
              "    }\n",
              "  </style>\n",
              "\n",
              "    <script>\n",
              "      const buttonEl =\n",
              "        document.querySelector('#df-51e8e70c-81d7-4f46-b02d-6b60dd19e419 button.colab-df-convert');\n",
              "      buttonEl.style.display =\n",
              "        google.colab.kernel.accessAllowed ? 'block' : 'none';\n",
              "\n",
              "      async function convertToInteractive(key) {\n",
              "        const element = document.querySelector('#df-51e8e70c-81d7-4f46-b02d-6b60dd19e419');\n",
              "        const dataTable =\n",
              "          await google.colab.kernel.invokeFunction('convertToInteractive',\n",
              "                                                    [key], {});\n",
              "        if (!dataTable) return;\n",
              "\n",
              "        const docLinkHtml = 'Like what you see? Visit the ' +\n",
              "          '<a target=\"_blank\" href=https://colab.research.google.com/notebooks/data_table.ipynb>data table notebook</a>'\n",
              "          + ' to learn more about interactive tables.';\n",
              "        element.innerHTML = '';\n",
              "        dataTable['output_type'] = 'display_data';\n",
              "        await google.colab.output.renderOutput(dataTable, element);\n",
              "        const docLink = document.createElement('div');\n",
              "        docLink.innerHTML = docLinkHtml;\n",
              "        element.appendChild(docLink);\n",
              "      }\n",
              "    </script>\n",
              "  </div>\n",
              "\n",
              "\n",
              "<div id=\"df-023067dd-96e6-4a41-a6bb-64b233bf870f\">\n",
              "  <button class=\"colab-df-quickchart\" onclick=\"quickchart('df-023067dd-96e6-4a41-a6bb-64b233bf870f')\"\n",
              "            title=\"Suggest charts\"\n",
              "            style=\"display:none;\">\n",
              "\n",
              "<svg xmlns=\"http://www.w3.org/2000/svg\" height=\"24px\"viewBox=\"0 0 24 24\"\n",
              "     width=\"24px\">\n",
              "    <g>\n",
              "        <path d=\"M19 3H5c-1.1 0-2 .9-2 2v14c0 1.1.9 2 2 2h14c1.1 0 2-.9 2-2V5c0-1.1-.9-2-2-2zM9 17H7v-7h2v7zm4 0h-2V7h2v10zm4 0h-2v-4h2v4z\"/>\n",
              "    </g>\n",
              "</svg>\n",
              "  </button>\n",
              "\n",
              "<style>\n",
              "  .colab-df-quickchart {\n",
              "      --bg-color: #E8F0FE;\n",
              "      --fill-color: #1967D2;\n",
              "      --hover-bg-color: #E2EBFA;\n",
              "      --hover-fill-color: #174EA6;\n",
              "      --disabled-fill-color: #AAA;\n",
              "      --disabled-bg-color: #DDD;\n",
              "  }\n",
              "\n",
              "  [theme=dark] .colab-df-quickchart {\n",
              "      --bg-color: #3B4455;\n",
              "      --fill-color: #D2E3FC;\n",
              "      --hover-bg-color: #434B5C;\n",
              "      --hover-fill-color: #FFFFFF;\n",
              "      --disabled-bg-color: #3B4455;\n",
              "      --disabled-fill-color: #666;\n",
              "  }\n",
              "\n",
              "  .colab-df-quickchart {\n",
              "    background-color: var(--bg-color);\n",
              "    border: none;\n",
              "    border-radius: 50%;\n",
              "    cursor: pointer;\n",
              "    display: none;\n",
              "    fill: var(--fill-color);\n",
              "    height: 32px;\n",
              "    padding: 0;\n",
              "    width: 32px;\n",
              "  }\n",
              "\n",
              "  .colab-df-quickchart:hover {\n",
              "    background-color: var(--hover-bg-color);\n",
              "    box-shadow: 0 1px 2px rgba(60, 64, 67, 0.3), 0 1px 3px 1px rgba(60, 64, 67, 0.15);\n",
              "    fill: var(--button-hover-fill-color);\n",
              "  }\n",
              "\n",
              "  .colab-df-quickchart-complete:disabled,\n",
              "  .colab-df-quickchart-complete:disabled:hover {\n",
              "    background-color: var(--disabled-bg-color);\n",
              "    fill: var(--disabled-fill-color);\n",
              "    box-shadow: none;\n",
              "  }\n",
              "\n",
              "  .colab-df-spinner {\n",
              "    border: 2px solid var(--fill-color);\n",
              "    border-color: transparent;\n",
              "    border-bottom-color: var(--fill-color);\n",
              "    animation:\n",
              "      spin 1s steps(1) infinite;\n",
              "  }\n",
              "\n",
              "  @keyframes spin {\n",
              "    0% {\n",
              "      border-color: transparent;\n",
              "      border-bottom-color: var(--fill-color);\n",
              "      border-left-color: var(--fill-color);\n",
              "    }\n",
              "    20% {\n",
              "      border-color: transparent;\n",
              "      border-left-color: var(--fill-color);\n",
              "      border-top-color: var(--fill-color);\n",
              "    }\n",
              "    30% {\n",
              "      border-color: transparent;\n",
              "      border-left-color: var(--fill-color);\n",
              "      border-top-color: var(--fill-color);\n",
              "      border-right-color: var(--fill-color);\n",
              "    }\n",
              "    40% {\n",
              "      border-color: transparent;\n",
              "      border-right-color: var(--fill-color);\n",
              "      border-top-color: var(--fill-color);\n",
              "    }\n",
              "    60% {\n",
              "      border-color: transparent;\n",
              "      border-right-color: var(--fill-color);\n",
              "    }\n",
              "    80% {\n",
              "      border-color: transparent;\n",
              "      border-right-color: var(--fill-color);\n",
              "      border-bottom-color: var(--fill-color);\n",
              "    }\n",
              "    90% {\n",
              "      border-color: transparent;\n",
              "      border-bottom-color: var(--fill-color);\n",
              "    }\n",
              "  }\n",
              "</style>\n",
              "\n",
              "  <script>\n",
              "    async function quickchart(key) {\n",
              "      const quickchartButtonEl =\n",
              "        document.querySelector('#' + key + ' button');\n",
              "      quickchartButtonEl.disabled = true;  // To prevent multiple clicks.\n",
              "      quickchartButtonEl.classList.add('colab-df-spinner');\n",
              "      try {\n",
              "        const charts = await google.colab.kernel.invokeFunction(\n",
              "            'suggestCharts', [key], {});\n",
              "      } catch (error) {\n",
              "        console.error('Error during call to suggestCharts:', error);\n",
              "      }\n",
              "      quickchartButtonEl.classList.remove('colab-df-spinner');\n",
              "      quickchartButtonEl.classList.add('colab-df-quickchart-complete');\n",
              "    }\n",
              "    (() => {\n",
              "      let quickchartButtonEl =\n",
              "        document.querySelector('#df-023067dd-96e6-4a41-a6bb-64b233bf870f button');\n",
              "      quickchartButtonEl.style.display =\n",
              "        google.colab.kernel.accessAllowed ? 'block' : 'none';\n",
              "    })();\n",
              "  </script>\n",
              "</div>\n",
              "\n",
              "    </div>\n",
              "  </div>\n"
            ],
            "application/vnd.google.colaboratory.intrinsic+json": {
              "type": "dataframe",
              "summary": "{\n  \"name\": \"df\",\n  \"rows\": 8,\n  \"fields\": [\n    {\n      \"column\": \"Linguagens\",\n      \"properties\": {\n        \"dtype\": \"number\",\n        \"std\": 260.1767838163819,\n        \"min\": 84.00931315971195,\n        \"max\": 897.0,\n        \"num_unique_values\": 8,\n        \"samples\": [\n          514.5248092106333,\n          515.0452497632,\n          897.0\n        ],\n        \"semantic_type\": \"\",\n        \"description\": \"\"\n      }\n    },\n    {\n      \"column\": \"Ci\\u00eancias humanas\",\n      \"properties\": {\n        \"dtype\": \"number\",\n        \"std\": 263.71645891458803,\n        \"min\": 77.81151916399475,\n        \"max\": 936.0,\n        \"num_unique_values\": 8,\n        \"samples\": [\n          527.0422808644046,\n          524.51992005745,\n          936.0\n        ],\n        \"semantic_type\": \"\",\n        \"description\": \"\"\n      }\n    },\n    {\n      \"column\": \"Ci\\u00eancias da natureza\",\n      \"properties\": {\n        \"dtype\": \"number\",\n        \"std\": 243.04266042185378,\n        \"min\": 78.76040369093829,\n        \"max\": 824.0,\n        \"num_unique_values\": 8,\n        \"samples\": [\n          499.3155828489798,\n          500.47926306565,\n          824.0\n        ],\n        \"semantic_type\": \"\",\n        \"description\": \"\"\n      }\n    },\n    {\n      \"column\": \"Matem\\u00e1tica\",\n      \"properties\": {\n        \"dtype\": \"number\",\n        \"std\": 261.7491627218222,\n        \"min\": 86.64810003261275,\n        \"max\": 924.0,\n        \"num_unique_values\": 8,\n        \"samples\": [\n          535.9656600928728,\n          533.2477669785001,\n          924.0\n        ],\n        \"semantic_type\": \"\",\n        \"description\": \"\"\n      }\n    },\n    {\n      \"column\": \"Reda\\u00e7\\u00e3o\",\n      \"properties\": {\n        \"dtype\": \"number\",\n        \"std\": 290.037818244487,\n        \"min\": 115.33997244479161,\n        \"max\": 1000.0,\n        \"num_unique_values\": 8,\n        \"samples\": [\n          637.7835320695872,\n          635.27397319435,\n          860.0\n        ],\n        \"semantic_type\": \"\",\n        \"description\": \"\"\n      }\n    }\n  ]\n}"
            }
          },
          "metadata": {},
          "execution_count": 6
        }
      ]
    },
    {
      "cell_type": "markdown",
      "source": [
        "```\n",
        "Count: Número total de observações no conjunto de dados.\n",
        "Mean: Representa o valor médio das observações.\n",
        "Std: Indica o quanto os valores estão afastados da média.\n",
        "Min: Indica o valor mais baixo no conjunto de dados.\n",
        "%25 (Q1): Representa o valor abaixo do qual 25% dos dados estão.\n",
        "%50 (Q2): O valor do meio quando os dados estão ordenados.\n",
        "%75 (Q3): Representa o valor abaixo do qual 75% dos dados estão.\n",
        "Max: Representa o valor mais alto no conjunto de dados.\n",
        "```"
      ],
      "metadata": {
        "id": "d7KcAtZbFjIH"
      }
    },
    {
      "cell_type": "markdown",
      "source": [
        "### Aplicação de Medidas Estatísticas\n",
        "\n",
        "*\t**Variância:**  Medida que quantifica o quão\n",
        "dispersos estão os valores de um conjunto de dados em relação à média.\n",
        "*\t**Amplitude:** Diferença entre o maior e o menor valor em um conjunto de dados. Ela fornece uma visão geral da extensão total dos dados.\n",
        "*\t**Desvio Padrão:** Medida de dispersão que expressa a dispersão dos dados, calculada como a raiz quadrada da variância.\n",
        "* **Coeficiente de variação (CV)**: Mede a variabilidade relativa em relação à média.\n",
        "* **Skewness (Assimetria)**: Descreve a inclinação e a direção da distribuição dos dados.\n",
        "\n",
        "*Obs.: Se skewness for zero, os dados são perfeitamente simétricos. Valores positivos indicam uma cauda à direita, enquanto valores negativos indicam uma cauda à esquerda.*"
      ],
      "metadata": {
        "id": "jJG4K_utevEl"
      }
    },
    {
      "cell_type": "markdown",
      "source": [
        "Adicionando no describe as colunas de amplitude e coeficiente de variação.\n"
      ],
      "metadata": {
        "id": "keSofrOlPgPm"
      }
    },
    {
      "cell_type": "code",
      "source": [
        "df_describe = df.describe()\n",
        "\n",
        "df_describe.loc[\"amp\"] = df_describe.loc['max'] - df_describe.loc['min']\n",
        "df_describe.loc[\"cv\"] = (df_describe.loc['std'] / df_describe.loc['mean']).abs() * 100  # abs para garantir que estamos falando de um valor positivo]\n",
        "df_describe.loc[\"skewness\"] = df.skew()\n",
        "\n",
        "df_describe.round(2)"
      ],
      "metadata": {
        "colab": {
          "base_uri": "https://localhost:8080/",
          "height": 394
        },
        "id": "uQFGhtl7ZUEN",
        "outputId": "e612e552-397d-4cf1-d2ee-fef91974a2ef"
      },
      "execution_count": 25,
      "outputs": [
        {
          "output_type": "execute_result",
          "data": {
            "text/plain": [
              "          Linguagens  Ciências humanas  Ciências da natureza  Matemática  \\\n",
              "count         897.00            936.00                824.00      924.00   \n",
              "mean          514.52            527.04                499.32      535.97   \n",
              "std            84.01             77.81                 78.76       86.65   \n",
              "min           287.00            289.90                314.40      319.80   \n",
              "25%           458.36            475.42                444.71      479.17   \n",
              "50%           515.05            524.52                500.48      533.25   \n",
              "75%           571.64            581.40                548.75      592.91   \n",
              "max           804.46            763.92                802.00      807.88   \n",
              "amp           517.46            474.02                487.60      488.08   \n",
              "cv             16.33             14.76                 15.77       16.17   \n",
              "skewness        0.08              0.08                  0.15        0.02   \n",
              "\n",
              "          Redação  \n",
              "count      860.00  \n",
              "mean       637.78  \n",
              "std        115.34  \n",
              "min        270.84  \n",
              "25%        556.47  \n",
              "50%        635.27  \n",
              "75%        715.99  \n",
              "max       1000.00  \n",
              "amp        729.16  \n",
              "cv          18.08  \n",
              "skewness     0.07  "
            ],
            "text/html": [
              "\n",
              "  <div id=\"df-a159ede7-32d2-4171-8904-f24f4f6007bd\" class=\"colab-df-container\">\n",
              "    <div>\n",
              "<style scoped>\n",
              "    .dataframe tbody tr th:only-of-type {\n",
              "        vertical-align: middle;\n",
              "    }\n",
              "\n",
              "    .dataframe tbody tr th {\n",
              "        vertical-align: top;\n",
              "    }\n",
              "\n",
              "    .dataframe thead th {\n",
              "        text-align: right;\n",
              "    }\n",
              "</style>\n",
              "<table border=\"1\" class=\"dataframe\">\n",
              "  <thead>\n",
              "    <tr style=\"text-align: right;\">\n",
              "      <th></th>\n",
              "      <th>Linguagens</th>\n",
              "      <th>Ciências humanas</th>\n",
              "      <th>Ciências da natureza</th>\n",
              "      <th>Matemática</th>\n",
              "      <th>Redação</th>\n",
              "    </tr>\n",
              "  </thead>\n",
              "  <tbody>\n",
              "    <tr>\n",
              "      <th>count</th>\n",
              "      <td>897.00</td>\n",
              "      <td>936.00</td>\n",
              "      <td>824.00</td>\n",
              "      <td>924.00</td>\n",
              "      <td>860.00</td>\n",
              "    </tr>\n",
              "    <tr>\n",
              "      <th>mean</th>\n",
              "      <td>514.52</td>\n",
              "      <td>527.04</td>\n",
              "      <td>499.32</td>\n",
              "      <td>535.97</td>\n",
              "      <td>637.78</td>\n",
              "    </tr>\n",
              "    <tr>\n",
              "      <th>std</th>\n",
              "      <td>84.01</td>\n",
              "      <td>77.81</td>\n",
              "      <td>78.76</td>\n",
              "      <td>86.65</td>\n",
              "      <td>115.34</td>\n",
              "    </tr>\n",
              "    <tr>\n",
              "      <th>min</th>\n",
              "      <td>287.00</td>\n",
              "      <td>289.90</td>\n",
              "      <td>314.40</td>\n",
              "      <td>319.80</td>\n",
              "      <td>270.84</td>\n",
              "    </tr>\n",
              "    <tr>\n",
              "      <th>25%</th>\n",
              "      <td>458.36</td>\n",
              "      <td>475.42</td>\n",
              "      <td>444.71</td>\n",
              "      <td>479.17</td>\n",
              "      <td>556.47</td>\n",
              "    </tr>\n",
              "    <tr>\n",
              "      <th>50%</th>\n",
              "      <td>515.05</td>\n",
              "      <td>524.52</td>\n",
              "      <td>500.48</td>\n",
              "      <td>533.25</td>\n",
              "      <td>635.27</td>\n",
              "    </tr>\n",
              "    <tr>\n",
              "      <th>75%</th>\n",
              "      <td>571.64</td>\n",
              "      <td>581.40</td>\n",
              "      <td>548.75</td>\n",
              "      <td>592.91</td>\n",
              "      <td>715.99</td>\n",
              "    </tr>\n",
              "    <tr>\n",
              "      <th>max</th>\n",
              "      <td>804.46</td>\n",
              "      <td>763.92</td>\n",
              "      <td>802.00</td>\n",
              "      <td>807.88</td>\n",
              "      <td>1000.00</td>\n",
              "    </tr>\n",
              "    <tr>\n",
              "      <th>amp</th>\n",
              "      <td>517.46</td>\n",
              "      <td>474.02</td>\n",
              "      <td>487.60</td>\n",
              "      <td>488.08</td>\n",
              "      <td>729.16</td>\n",
              "    </tr>\n",
              "    <tr>\n",
              "      <th>cv</th>\n",
              "      <td>16.33</td>\n",
              "      <td>14.76</td>\n",
              "      <td>15.77</td>\n",
              "      <td>16.17</td>\n",
              "      <td>18.08</td>\n",
              "    </tr>\n",
              "    <tr>\n",
              "      <th>skewness</th>\n",
              "      <td>0.08</td>\n",
              "      <td>0.08</td>\n",
              "      <td>0.15</td>\n",
              "      <td>0.02</td>\n",
              "      <td>0.07</td>\n",
              "    </tr>\n",
              "  </tbody>\n",
              "</table>\n",
              "</div>\n",
              "    <div class=\"colab-df-buttons\">\n",
              "\n",
              "  <div class=\"colab-df-container\">\n",
              "    <button class=\"colab-df-convert\" onclick=\"convertToInteractive('df-a159ede7-32d2-4171-8904-f24f4f6007bd')\"\n",
              "            title=\"Convert this dataframe to an interactive table.\"\n",
              "            style=\"display:none;\">\n",
              "\n",
              "  <svg xmlns=\"http://www.w3.org/2000/svg\" height=\"24px\" viewBox=\"0 -960 960 960\">\n",
              "    <path d=\"M120-120v-720h720v720H120Zm60-500h600v-160H180v160Zm220 220h160v-160H400v160Zm0 220h160v-160H400v160ZM180-400h160v-160H180v160Zm440 0h160v-160H620v160ZM180-180h160v-160H180v160Zm440 0h160v-160H620v160Z\"/>\n",
              "  </svg>\n",
              "    </button>\n",
              "\n",
              "  <style>\n",
              "    .colab-df-container {\n",
              "      display:flex;\n",
              "      gap: 12px;\n",
              "    }\n",
              "\n",
              "    .colab-df-convert {\n",
              "      background-color: #E8F0FE;\n",
              "      border: none;\n",
              "      border-radius: 50%;\n",
              "      cursor: pointer;\n",
              "      display: none;\n",
              "      fill: #1967D2;\n",
              "      height: 32px;\n",
              "      padding: 0 0 0 0;\n",
              "      width: 32px;\n",
              "    }\n",
              "\n",
              "    .colab-df-convert:hover {\n",
              "      background-color: #E2EBFA;\n",
              "      box-shadow: 0px 1px 2px rgba(60, 64, 67, 0.3), 0px 1px 3px 1px rgba(60, 64, 67, 0.15);\n",
              "      fill: #174EA6;\n",
              "    }\n",
              "\n",
              "    .colab-df-buttons div {\n",
              "      margin-bottom: 4px;\n",
              "    }\n",
              "\n",
              "    [theme=dark] .colab-df-convert {\n",
              "      background-color: #3B4455;\n",
              "      fill: #D2E3FC;\n",
              "    }\n",
              "\n",
              "    [theme=dark] .colab-df-convert:hover {\n",
              "      background-color: #434B5C;\n",
              "      box-shadow: 0px 1px 3px 1px rgba(0, 0, 0, 0.15);\n",
              "      filter: drop-shadow(0px 1px 2px rgba(0, 0, 0, 0.3));\n",
              "      fill: #FFFFFF;\n",
              "    }\n",
              "  </style>\n",
              "\n",
              "    <script>\n",
              "      const buttonEl =\n",
              "        document.querySelector('#df-a159ede7-32d2-4171-8904-f24f4f6007bd button.colab-df-convert');\n",
              "      buttonEl.style.display =\n",
              "        google.colab.kernel.accessAllowed ? 'block' : 'none';\n",
              "\n",
              "      async function convertToInteractive(key) {\n",
              "        const element = document.querySelector('#df-a159ede7-32d2-4171-8904-f24f4f6007bd');\n",
              "        const dataTable =\n",
              "          await google.colab.kernel.invokeFunction('convertToInteractive',\n",
              "                                                    [key], {});\n",
              "        if (!dataTable) return;\n",
              "\n",
              "        const docLinkHtml = 'Like what you see? Visit the ' +\n",
              "          '<a target=\"_blank\" href=https://colab.research.google.com/notebooks/data_table.ipynb>data table notebook</a>'\n",
              "          + ' to learn more about interactive tables.';\n",
              "        element.innerHTML = '';\n",
              "        dataTable['output_type'] = 'display_data';\n",
              "        await google.colab.output.renderOutput(dataTable, element);\n",
              "        const docLink = document.createElement('div');\n",
              "        docLink.innerHTML = docLinkHtml;\n",
              "        element.appendChild(docLink);\n",
              "      }\n",
              "    </script>\n",
              "  </div>\n",
              "\n",
              "\n",
              "<div id=\"df-33c90997-0891-4eb2-ace2-09c031ef9515\">\n",
              "  <button class=\"colab-df-quickchart\" onclick=\"quickchart('df-33c90997-0891-4eb2-ace2-09c031ef9515')\"\n",
              "            title=\"Suggest charts\"\n",
              "            style=\"display:none;\">\n",
              "\n",
              "<svg xmlns=\"http://www.w3.org/2000/svg\" height=\"24px\"viewBox=\"0 0 24 24\"\n",
              "     width=\"24px\">\n",
              "    <g>\n",
              "        <path d=\"M19 3H5c-1.1 0-2 .9-2 2v14c0 1.1.9 2 2 2h14c1.1 0 2-.9 2-2V5c0-1.1-.9-2-2-2zM9 17H7v-7h2v7zm4 0h-2V7h2v10zm4 0h-2v-4h2v4z\"/>\n",
              "    </g>\n",
              "</svg>\n",
              "  </button>\n",
              "\n",
              "<style>\n",
              "  .colab-df-quickchart {\n",
              "      --bg-color: #E8F0FE;\n",
              "      --fill-color: #1967D2;\n",
              "      --hover-bg-color: #E2EBFA;\n",
              "      --hover-fill-color: #174EA6;\n",
              "      --disabled-fill-color: #AAA;\n",
              "      --disabled-bg-color: #DDD;\n",
              "  }\n",
              "\n",
              "  [theme=dark] .colab-df-quickchart {\n",
              "      --bg-color: #3B4455;\n",
              "      --fill-color: #D2E3FC;\n",
              "      --hover-bg-color: #434B5C;\n",
              "      --hover-fill-color: #FFFFFF;\n",
              "      --disabled-bg-color: #3B4455;\n",
              "      --disabled-fill-color: #666;\n",
              "  }\n",
              "\n",
              "  .colab-df-quickchart {\n",
              "    background-color: var(--bg-color);\n",
              "    border: none;\n",
              "    border-radius: 50%;\n",
              "    cursor: pointer;\n",
              "    display: none;\n",
              "    fill: var(--fill-color);\n",
              "    height: 32px;\n",
              "    padding: 0;\n",
              "    width: 32px;\n",
              "  }\n",
              "\n",
              "  .colab-df-quickchart:hover {\n",
              "    background-color: var(--hover-bg-color);\n",
              "    box-shadow: 0 1px 2px rgba(60, 64, 67, 0.3), 0 1px 3px 1px rgba(60, 64, 67, 0.15);\n",
              "    fill: var(--button-hover-fill-color);\n",
              "  }\n",
              "\n",
              "  .colab-df-quickchart-complete:disabled,\n",
              "  .colab-df-quickchart-complete:disabled:hover {\n",
              "    background-color: var(--disabled-bg-color);\n",
              "    fill: var(--disabled-fill-color);\n",
              "    box-shadow: none;\n",
              "  }\n",
              "\n",
              "  .colab-df-spinner {\n",
              "    border: 2px solid var(--fill-color);\n",
              "    border-color: transparent;\n",
              "    border-bottom-color: var(--fill-color);\n",
              "    animation:\n",
              "      spin 1s steps(1) infinite;\n",
              "  }\n",
              "\n",
              "  @keyframes spin {\n",
              "    0% {\n",
              "      border-color: transparent;\n",
              "      border-bottom-color: var(--fill-color);\n",
              "      border-left-color: var(--fill-color);\n",
              "    }\n",
              "    20% {\n",
              "      border-color: transparent;\n",
              "      border-left-color: var(--fill-color);\n",
              "      border-top-color: var(--fill-color);\n",
              "    }\n",
              "    30% {\n",
              "      border-color: transparent;\n",
              "      border-left-color: var(--fill-color);\n",
              "      border-top-color: var(--fill-color);\n",
              "      border-right-color: var(--fill-color);\n",
              "    }\n",
              "    40% {\n",
              "      border-color: transparent;\n",
              "      border-right-color: var(--fill-color);\n",
              "      border-top-color: var(--fill-color);\n",
              "    }\n",
              "    60% {\n",
              "      border-color: transparent;\n",
              "      border-right-color: var(--fill-color);\n",
              "    }\n",
              "    80% {\n",
              "      border-color: transparent;\n",
              "      border-right-color: var(--fill-color);\n",
              "      border-bottom-color: var(--fill-color);\n",
              "    }\n",
              "    90% {\n",
              "      border-color: transparent;\n",
              "      border-bottom-color: var(--fill-color);\n",
              "    }\n",
              "  }\n",
              "</style>\n",
              "\n",
              "  <script>\n",
              "    async function quickchart(key) {\n",
              "      const quickchartButtonEl =\n",
              "        document.querySelector('#' + key + ' button');\n",
              "      quickchartButtonEl.disabled = true;  // To prevent multiple clicks.\n",
              "      quickchartButtonEl.classList.add('colab-df-spinner');\n",
              "      try {\n",
              "        const charts = await google.colab.kernel.invokeFunction(\n",
              "            'suggestCharts', [key], {});\n",
              "      } catch (error) {\n",
              "        console.error('Error during call to suggestCharts:', error);\n",
              "      }\n",
              "      quickchartButtonEl.classList.remove('colab-df-spinner');\n",
              "      quickchartButtonEl.classList.add('colab-df-quickchart-complete');\n",
              "    }\n",
              "    (() => {\n",
              "      let quickchartButtonEl =\n",
              "        document.querySelector('#df-33c90997-0891-4eb2-ace2-09c031ef9515 button');\n",
              "      quickchartButtonEl.style.display =\n",
              "        google.colab.kernel.accessAllowed ? 'block' : 'none';\n",
              "    })();\n",
              "  </script>\n",
              "</div>\n",
              "\n",
              "    </div>\n",
              "  </div>\n"
            ],
            "application/vnd.google.colaboratory.intrinsic+json": {
              "type": "dataframe",
              "summary": "{\n  \"name\": \"df_describe\",\n  \"rows\": 11,\n  \"fields\": [\n    {\n      \"column\": \"Linguagens\",\n      \"properties\": {\n        \"dtype\": \"number\",\n        \"std\": 299.489665774054,\n        \"min\": 0.08,\n        \"max\": 897.0,\n        \"num_unique_values\": 11,\n        \"samples\": [\n          515.05,\n          897.0,\n          16.33\n        ],\n        \"semantic_type\": \"\",\n        \"description\": \"\"\n      }\n    },\n    {\n      \"column\": \"Ci\\u00eancias humanas\",\n      \"properties\": {\n        \"dtype\": \"number\",\n        \"std\": 302.21642848973465,\n        \"min\": 0.08,\n        \"max\": 936.0,\n        \"num_unique_values\": 11,\n        \"samples\": [\n          524.52,\n          936.0,\n          14.76\n        ],\n        \"semantic_type\": \"\",\n        \"description\": \"\"\n      }\n    },\n    {\n      \"column\": \"Ci\\u00eancias da natureza\",\n      \"properties\": {\n        \"dtype\": \"number\",\n        \"std\": 284.59676821777157,\n        \"min\": 0.15,\n        \"max\": 824.0,\n        \"num_unique_values\": 11,\n        \"samples\": [\n          500.48,\n          824.0,\n          15.77\n        ],\n        \"semantic_type\": \"\",\n        \"description\": \"\"\n      }\n    },\n    {\n      \"column\": \"Matem\\u00e1tica\",\n      \"properties\": {\n        \"dtype\": \"number\",\n        \"std\": 304.45974495818,\n        \"min\": 0.02,\n        \"max\": 924.0,\n        \"num_unique_values\": 11,\n        \"samples\": [\n          533.25,\n          924.0,\n          16.17\n        ],\n        \"semantic_type\": \"\",\n        \"description\": \"\"\n      }\n    },\n    {\n      \"column\": \"Reda\\u00e7\\u00e3o\",\n      \"properties\": {\n        \"dtype\": \"number\",\n        \"std\": 346.66300461294213,\n        \"min\": 0.07,\n        \"max\": 1000.0,\n        \"num_unique_values\": 11,\n        \"samples\": [\n          635.27,\n          860.0,\n          18.08\n        ],\n        \"semantic_type\": \"\",\n        \"description\": \"\"\n      }\n    }\n  ]\n}"
            }
          },
          "metadata": {},
          "execution_count": 25
        }
      ]
    },
    {
      "cell_type": "markdown",
      "source": [
        "#### **<font color='f9e79f'> Conclusões: </font>**\n",
        "\n",
        "\n",
        "*  **Coeficiente de variação (cv)** médio (15-35%): Dados apresentam uma variabilidade moderada, dispersão razoável em relação à média.\n",
        "*   **Amplitute** alta das notas; sendo a maior delas para a disciplina 'Redação' com a amplitude de 729.\n",
        "* Ambos, **mínimos** e **máximos** valores também registrados para a disciplina 'Redação'.\n",
        "* Em **count** conseguimos ver a presença de dados nan, ou seja, informações ausentes em todas as disciplinas.\n",
        "* Distribuições provavelmente simétricas, a **média (mean)** e a **mediana(50%)** são bem semelhantes.\n",
        "* A **assimetria (skewness)** é bem próxima a zero, comprovando que os dados são simétricos. Portanto, apresentam assimetria nula."
      ],
      "metadata": {
        "id": "tsqN8CazZyVl"
      }
    },
    {
      "cell_type": "markdown",
      "source": [
        "#### **<font color='f9e79f'> Questão 1: </font>**  \n",
        "Qual a maior amplitude de notas?"
      ],
      "metadata": {
        "id": "ewcCaXDMiKp5"
      }
    },
    {
      "cell_type": "code",
      "source": [
        "amplitude = novo_describe(df).loc[\"amp\"]\n",
        "\n",
        "print(f'A maior amplitude de notas foi de {amplitude.max()} para a disciplina {amplitude.idxmax()}.') ## valor máximo com o índice máximo"
      ],
      "metadata": {
        "colab": {
          "base_uri": "https://localhost:8080/"
        },
        "id": "jnomY2e7g5Fq",
        "outputId": "b83d2bdb-d3d9-4ffd-a9a6-9d4698d9a6eb"
      },
      "execution_count": 8,
      "outputs": [
        {
          "output_type": "stream",
          "name": "stdout",
          "text": [
            "A maior amplitude de notas foi de 729.16 para a disciplina Redação.\n"
          ]
        }
      ]
    },
    {
      "cell_type": "markdown",
      "source": [
        "### Gráfico de Barras por Gênero\n",
        "\n",
        "Distribuição de frequência relativa (%) por variável de gênero."
      ],
      "metadata": {
        "id": "1qkxsmYSfA9o"
      }
    },
    {
      "cell_type": "code",
      "source": [
        "plt.figure(figsize=(6, 4))\n",
        "\n",
        "sns.set(style='whitegrid')\n",
        "sns.barplot(x=df['Sexo'].value_counts(normalize=True).index, ## index dos gêneros\n",
        "                 y=df['Sexo'].value_counts(normalize=True)*100, ## calculo da frequência relativa\n",
        "                 palette='Pastel1')\n",
        "\n",
        "plt.title('Distribuição de Gênero')\n",
        "plt.xlabel('')\n",
        "plt.ylabel('Frequência em %')\n",
        "\n",
        "plt.show()"
      ],
      "metadata": {
        "colab": {
          "base_uri": "https://localhost:8080/",
          "height": 396
        },
        "id": "Juz0_1608KGu",
        "outputId": "2a9dfdc2-a844-4035-bcba-0d052bfc51e1"
      },
      "execution_count": 10,
      "outputs": [
        {
          "output_type": "display_data",
          "data": {
            "text/plain": [
              "<Figure size 600x400 with 1 Axes>"
            ],
            "image/png": "[encoded data removed]"
          },
          "metadata": {}
        }
      ]
    },
    {
      "cell_type": "markdown",
      "source": [
        "### Histograma das Variáveis\n",
        "\n",
        "Distribuição de frequência para todas as disciplinas."
      ],
      "metadata": {
        "id": "0M4hIskVhTkt"
      }
    },
    {
      "cell_type": "markdown",
      "source": [
        "#### **<font color='f9e79f'> Questão 2: </font>**\n",
        "Qual a distribuição de frequência das disciplinas? Vamos descobrir juntos?"
      ],
      "metadata": {
        "id": "33DrBhqV6X6e"
      }
    },
    {
      "cell_type": "code",
      "source": [
        "disciplinas = df.select_dtypes(include=np.number).columns\n",
        "\n",
        "sns.set(style='whitegrid')\n",
        "# para cada uma das colunas numericas roda o histograma\n",
        "for disciplina in disciplinas:\n",
        "    plt.figure()\n",
        "    sns.displot(data=df, x=disciplina, bins=20, kde= True, color='b') # kde= True é a curva de densidade\n",
        "    plt.title(\"Histograma: \"+disciplina)\n",
        "    plt.xlabel('')  # Remove o rótulo do eixo x\n",
        "    plt.ylabel('')\n",
        "\n",
        "plt.show()"
      ],
      "metadata": {
        "colab": {
          "base_uri": "https://localhost:8080/",
          "height": 1000
        },
        "id": "Ystaqhm4hRig",
        "outputId": "4b09ea66-4186-4e58-aff5-2f695791df7c"
      },
      "execution_count": 28,
      "outputs": [
        {
          "output_type": "display_data",
          "data": {
            "text/plain": [
              "<Figure size 640x480 with 0 Axes>"
            ]
          },
          "metadata": {}
        },
        {
          "output_type": "display_data",
          "data": {
            "text/plain": [
              "<Figure size 500x500 with 1 Axes>"
            ],
            "image/png": "[encoded data removed]"
          },
          "metadata": {}
        },
        {
          "output_type": "display_data",
          "data": {
            "text/plain": [
              "<Figure size 640x480 with 0 Axes>"
            ]
          },
          "metadata": {}
        },
        {
          "output_type": "display_data",
          "data": {
            "text/plain": [
              "<Figure size 500x500 with 1 Axes>"
            ],
            "image/png": "[encoded data removed]"
          },
          "metadata": {}
        },
        {
          "output_type": "display_data",
          "data": {
            "text/plain": [
              "<Figure size 640x480 with 0 Axes>"
            ]
          },
          "metadata": {}
        },
        {
          "output_type": "display_data",
          "data": {
            "text/plain": [
              "<Figure size 500x500 with 1 Axes>"
            ],
            "image/png": "[encoded data removed]"
          },
          "metadata": {}
        },
        {
          "output_type": "display_data",
          "data": {
            "text/plain": [
              "<Figure size 640x480 with 0 Axes>"
            ]
          },
          "metadata": {}
        },
        {
          "output_type": "display_data",
          "data": {
            "text/plain": [
              "<Figure size 500x500 with 1 Axes>"
            ],
            "image/png": "[encoded data removed]"
          },
          "metadata": {}
        },
        {
          "output_type": "display_data",
          "data": {
            "text/plain": [
              "<Figure size 640x480 with 0 Axes>"
            ]
          },
          "metadata": {}
        },
        {
          "output_type": "display_data",
          "data": {
            "text/plain": [
              "<Figure size 500x500 with 1 Axes>"
            ],
            "image/png": "[encoded data removed]"
          },
          "metadata": {}
        }
      ]
    },
    {
      "cell_type": "markdown",
      "source": [
        "Verificando a simetria dos histogramas."
      ],
      "metadata": {
        "id": "jkF5wmY910wF"
      }
    },
    {
      "cell_type": "code",
      "source": [
        "from scipy.stats import skew\n",
        "\n",
        "# nesse caso as áreas são proporcionais ou iguais as frequências\n",
        "\n",
        "def calcular_assimetria(df_column):\n",
        "    df_sem_nan = df_column.dropna()\n",
        "    skewness = skew(df_sem_nan)\n",
        "\n",
        "    if skewness > 0.5:\n",
        "        return 'Assimetria à Direita (positiva)'\n",
        "    elif -0.5 <= skewness <= 0.5:\n",
        "        return 'Assimetria nula ou próxima de zero'\n",
        "    else:\n",
        "        return 'Assimetria à Esquerda (negativa)'\n",
        "\n",
        "# utilizando método for para percorrer em cada disciplina\n",
        "for disciplina in disciplinas:\n",
        "    resultado = calcular_assimetria(df[disciplina])\n",
        "    print(f\"O resultado da assimetria de Pearson para a disciplina '{disciplina}' é: {resultado}\")\n",
        "\n",
        "## Ambos os histrogramas são simétricos, baseados no Coeficiente de assimetria de Pearson. Se o coeficiente for nulo ou próximo a zero, a distribuição será simétrica."
      ],
      "metadata": {
        "colab": {
          "base_uri": "https://localhost:8080/"
        },
        "id": "3mNV_-bA0_EY",
        "outputId": "e7e382ac-7969-4a44-d696-973b503acb98"
      },
      "execution_count": 29,
      "outputs": [
        {
          "output_type": "stream",
          "name": "stdout",
          "text": [
            "O resultado da assimetria de Pearson para a disciplina 'Linguagens' é: Assimetria nula ou próxima de zero\n",
            "O resultado da assimetria de Pearson para a disciplina 'Ciências humanas' é: Assimetria nula ou próxima de zero\n",
            "O resultado da assimetria de Pearson para a disciplina 'Ciências da natureza' é: Assimetria nula ou próxima de zero\n",
            "O resultado da assimetria de Pearson para a disciplina 'Matemática' é: Assimetria nula ou próxima de zero\n",
            "O resultado da assimetria de Pearson para a disciplina 'Redação' é: Assimetria nula ou próxima de zero\n"
          ]
        }
      ]
    },
    {
      "cell_type": "markdown",
      "source": [
        "### Matriz de Correlação"
      ],
      "metadata": {
        "id": "mHnOdlt7qhB_"
      }
    },
    {
      "cell_type": "markdown",
      "source": [
        "#### **<font color='f9e79f'> Questão 3: </font>**\n",
        "Existe correlação entre as disciplinas?"
      ],
      "metadata": {
        "id": "3_VHKqd42eEO"
      }
    },
    {
      "cell_type": "code",
      "source": [
        "# Validando correlação entre disciplinas\n",
        "\n",
        "correlacao_disciplinas = df[disciplinas].corr()\n",
        "sns.heatmap(correlacao_disciplinas, annot=True,cmap='Pastel1', fmt='.2f')\n",
        "\n",
        "plt.title('Correlação entre Disciplinas')\n",
        "plt.show()"
      ],
      "metadata": {
        "colab": {
          "base_uri": "https://localhost:8080/",
          "height": 602
        },
        "id": "QacnsG-5Rz7f",
        "outputId": "0dac82bd-30f9-42f3-aea0-1eb93bfca66f"
      },
      "execution_count": 13,
      "outputs": [
        {
          "output_type": "display_data",
          "data": {
            "text/plain": [
              "<Figure size 640x480 with 2 Axes>"
            ],
            "image/png": "[encoded data removed]"
          },
          "metadata": {}
        }
      ]
    },
    {
      "cell_type": "markdown",
      "source": [
        "#### **<font color='f9e79f'> Conclusões: </font>**\n",
        "Não demonstram correlação significativa."
      ],
      "metadata": {
        "id": "4c2rtlVhWMQR"
      }
    },
    {
      "cell_type": "markdown",
      "source": [
        "### **<font color='f9e79f'>Vamos supor que o nosso objetivo é ingressar no curso de Ciências da Computação da UFRGS</font>**\n",
        "\n",
        "Iremos então retirar informações da base de dados do enem do ano anterior para alinhar melhor as nossas estratégias de estudo."
      ],
      "metadata": {
        "id": "zYae4tPcLYGQ"
      }
    },
    {
      "cell_type": "markdown",
      "source": [
        "Considere o peso cada uma das disciplinas conforme abaixo:\n",
        "\n",
        "```\n",
        "a. Redação - 2\n",
        "b. Matemática e suas Tecnologias - 4\n",
        "c. Linguagens, Códigos e suas Tecnologias - 2\n",
        "d. Ciências Humanas e suas Tecnologias - 1\n",
        "e. Ciências da Natureza e suas Tecnologias - 1\n",
        "```"
      ],
      "metadata": {
        "id": "fb-cHJWD4tcA"
      }
    },
    {
      "cell_type": "markdown",
      "source": [
        "#### **<font color='f9e79f'> Questão 4: </font>**\n",
        "Se existissem apenas 10 vagas para o curso de Ciências da Computação, qual a média ponderada, por disciplinas, dos prováveis estudantes aprovados?"
      ],
      "metadata": {
        "id": "PbdAWHcEobnW"
      }
    },
    {
      "cell_type": "code",
      "source": [
        "# definindo os pesos\n",
        "pesos = {'Redação': 2, 'Matemática': 4, 'Linguagens': 2, 'Ciências humanas': 1, 'Ciências da natureza': 1}\n",
        "\n",
        "# calculando a média ponderada para todas as disciplinas\n",
        "ponderadas = np.average(df[disciplinas], weights=[pesos[d] for d in disciplinas], axis=1)\n",
        "\n",
        "# adicionando a média ponderada ao df para o curso de ciências da computação\n",
        "df_ciencias_comp = df.copy()\n",
        "df_ciencias_comp['Média Ponderada'] = ponderadas\n",
        "\n",
        "# selecionando os 10 estudantes mais bem colocados\n",
        "df_ciencias_comp.nlargest(10, 'Média Ponderada').mean().round(2)"
      ],
      "metadata": {
        "colab": {
          "base_uri": "https://localhost:8080/"
        },
        "id": "2Gc92lgrJdKa",
        "outputId": "3ea609b6-6aaf-438a-8a43-56e81f63652c"
      },
      "execution_count": 14,
      "outputs": [
        {
          "output_type": "execute_result",
          "data": {
            "text/plain": [
              "Linguagens              543.0\n",
              "Ciências humanas        571.0\n",
              "Ciências da natureza    505.0\n",
              "Matemática              721.0\n",
              "Redação                 783.0\n",
              "Média Ponderada         661.0\n",
              "dtype: float64"
            ]
          },
          "metadata": {},
          "execution_count": 14
        }
      ]
    },
    {
      "cell_type": "markdown",
      "source": [
        "E qual a média dos 10 melhores estudante sem considerar as notas ponderadas?"
      ],
      "metadata": {
        "id": "AxqsEST-u9Ei"
      }
    },
    {
      "cell_type": "code",
      "source": [
        "df.nlargest(10, disciplinas).mean().round(2)"
      ],
      "metadata": {
        "id": "q9Uw0oeCvFXF"
      },
      "execution_count": null,
      "outputs": []
    },
    {
      "cell_type": "markdown",
      "source": [
        "### Boxplot para Visualização de Outliers"
      ],
      "metadata": {
        "id": "GlXILy5vpgwe"
      }
    },
    {
      "cell_type": "markdown",
      "source": [
        "O nosso código tem muitos outliers? Vamos verificar se é possível enxergá-los através de um boxplot."
      ],
      "metadata": {
        "id": "r1TkJ7HOR61D"
      }
    },
    {
      "cell_type": "code",
      "source": [
        "# Configurando o estilo do seaborn\n",
        "sns.set(style='whitegrid')\n",
        "\n",
        "# Boxplot para ambas disciplinas\n",
        "plt.figure(figsize=(8, 6))\n",
        "sns.boxplot(data=df[disciplinas], orient='h', palette='Pastel1')\n",
        "\n",
        "# Adicionando título e rótulos aos eixos\n",
        "plt.title('Boxplot das Disciplinas')\n",
        "plt.xlabel('Notas')\n",
        "plt.ylabel(' ')\n",
        "\n",
        "# Otimizando visual\n",
        "sns.despine()\n",
        "plt.grid(axis='x', linestyle='--', alpha=0.6)\n",
        "plt.show()"
      ],
      "metadata": {
        "colab": {
          "base_uri": "https://localhost:8080/",
          "height": 573
        },
        "id": "LfC2miXlCPDo",
        "outputId": "ff652adc-937a-4648-d159-71c4e5bdeb5e"
      },
      "execution_count": 26,
      "outputs": [
        {
          "output_type": "display_data",
          "data": {
            "text/plain": [
              "<Figure size 800x600 with 1 Axes>"
            ],
            "image/png": "[encoded data removed]"
          },
          "metadata": {}
        }
      ]
    },
    {
      "cell_type": "markdown",
      "source": [
        "#### **<font color='f9e79f'> Questão 5: </font>**\n",
        "Quantos outliers temos por disciplina?  "
      ],
      "metadata": {
        "id": "DZZ8H9v6pmXZ"
      }
    },
    {
      "cell_type": "code",
      "source": [
        "def outlier(df, column):\n",
        "    q1 = df[column].quantile(0.25)\n",
        "    q3 = df[column].quantile(0.75)\n",
        "    iqr = q3 - q1\n",
        "    lower = q1 - 1.5 * iqr\n",
        "    upper = q3 + 1.5 * iqr\n",
        "\n",
        "    outliers = []\n",
        "\n",
        "    for value in df[column].values:\n",
        "        if ((value < lower) or (value > upper)):\n",
        "            outliers.append(value)\n",
        "    print(f'Disciplina: {column}, o número de outliers encontrados foi: ', len(outliers))\n",
        "\n",
        "# Chamando a função outlier para cada disciplina\n",
        "for disciplina in disciplinas:\n",
        "    outlier(df, disciplina)"
      ],
      "metadata": {
        "colab": {
          "base_uri": "https://localhost:8080/"
        },
        "id": "ms74nd96Br42",
        "outputId": "ed202418-042c-44f1-83b9-c8715a31551b"
      },
      "execution_count": 16,
      "outputs": [
        {
          "output_type": "stream",
          "name": "stdout",
          "text": [
            "Disciplina: Redação, o número de outliers encontrados foi:  4\n",
            "Disciplina: Matemática, o número de outliers encontrados foi:  3\n",
            "Disciplina: Linguagens, o número de outliers encontrados foi:  5\n",
            "Disciplina: Ciências humanas, o número de outliers encontrados foi:  8\n",
            "Disciplina: Ciências da natureza, o número de outliers encontrados foi:  3\n"
          ]
        }
      ]
    },
    {
      "cell_type": "markdown",
      "source": [
        "#### **<font color='f9e79f'> Conclusões: </font>**\n",
        "O que podemos ver com o boxplot acima?\n",
        "\n",
        "*   **Box:** Representa o intervalo interquartil (IQR), que é a faixa entre o primeiro quartil (25%) e o terceiro quartil (75%) dos dados.\n",
        "A caixa em si indica onde está a maior parte dos dados.\n",
        "* **Linha Mediana:** Dentro da caixa, há uma linha que representa a mediana (50%) dos dados.\n",
        "* **Whiskers:** São linhas que se estendem a partir da caixa até os pontos fora dela. Eles indicam a variabilidade além do IQR.\n",
        "* **Outliers:** Pontos fora dos whiskers são considerados outliers e são indicados individualmente.   "
      ],
      "metadata": {
        "id": "KSGEr_5NvVyG"
      }
    },
    {
      "cell_type": "markdown",
      "source": [
        "### Tratamento de Dados Nulos"
      ],
      "metadata": {
        "id": "lqgtiMb7ptmX"
      }
    },
    {
      "cell_type": "markdown",
      "source": [
        "#### **<font color='f9e79f'> Questão 6: </font>**\n",
        "\n",
        "Considerando valores nulos, tente encontrar qual seria a melhor medida de tendência que pode substituir as notas nulas (média, moda ou mediana). Substitua o valor por todos os três e diga qual delas altera menos a média geral e o desvio padrão."
      ],
      "metadata": {
        "id": "lG1KpR4m4vJR"
      }
    },
    {
      "cell_type": "code",
      "source": [
        "df.mean()"
      ],
      "metadata": {
        "colab": {
          "base_uri": "https://localhost:8080/"
        },
        "id": "zUch7Ad0qzMh",
        "outputId": "0b026f4c-8b62-4028-b4c8-5f88e484d13f"
      },
      "execution_count": 17,
      "outputs": [
        {
          "output_type": "execute_result",
          "data": {
            "text/plain": [
              "Linguagens              514.524809\n",
              "Ciências humanas        527.042281\n",
              "Ciências da natureza    499.315583\n",
              "Matemática              535.965660\n",
              "Redação                 637.783532\n",
              "dtype: float64"
            ]
          },
          "metadata": {},
          "execution_count": 17
        }
      ]
    },
    {
      "cell_type": "code",
      "source": [
        "df.std()"
      ],
      "metadata": {
        "colab": {
          "base_uri": "https://localhost:8080/"
        },
        "id": "4mEJkzXF7yzX",
        "outputId": "1fc3dd8d-8ab1-4793-8312-47b2de5d4ddb"
      },
      "execution_count": 18,
      "outputs": [
        {
          "output_type": "execute_result",
          "data": {
            "text/plain": [
              "Linguagens               84.009313\n",
              "Ciências humanas         77.811519\n",
              "Ciências da natureza     78.760404\n",
              "Matemática               86.648100\n",
              "Redação                 115.339972\n",
              "dtype: float64"
            ]
          },
          "metadata": {},
          "execution_count": 18
        }
      ]
    },
    {
      "cell_type": "code",
      "source": [
        "# substituindo dados nulos por 'média'\n",
        "\n",
        "def fillna_mean(df):\n",
        "    for column in df.select_dtypes(include=np.number):\n",
        "        df[column] = df[column].fillna(df[column].mean())\n",
        "\n",
        "    df_mean = df.mean()\n",
        "    df_std = df.std()\n",
        "    return print(f\"Média sem dados nulos:\\n{df_mean}\\n\\nDesvio padrão sem dados nulos:\\n{df_std}\")\n",
        "\n",
        "df_nan_mean = df.copy()\n",
        "fillna_mean(df_nan_mean)"
      ],
      "metadata": {
        "colab": {
          "base_uri": "https://localhost:8080/"
        },
        "id": "W-oZYemk7-LF",
        "outputId": "98dbe475-65df-4125-9a5f-9ecf46e5a959"
      },
      "execution_count": 19,
      "outputs": [
        {
          "output_type": "stream",
          "name": "stdout",
          "text": [
            "Média sem dados nulos:\n",
            "Linguagens              514.524809\n",
            "Ciências humanas        527.042281\n",
            "Ciências da natureza    499.315583\n",
            "Matemática              535.965660\n",
            "Redação                 637.783532\n",
            "dtype: float64\n",
            "\n",
            "Desvio padrão sem dados nulos:\n",
            "Linguagens               79.560718\n",
            "Ciências humanas         75.277806\n",
            "Ciências da natureza     71.486677\n",
            "Matemática               83.286987\n",
            "Redação                 106.953175\n",
            "dtype: float64\n"
          ]
        }
      ]
    },
    {
      "cell_type": "code",
      "source": [
        "# substituindo dados nulos por 'mediana'\n",
        "\n",
        "def fillna_median(df):\n",
        "    for column in df.select_dtypes(include=np.number):\n",
        "        df[column] = df[column].fillna(df[column].median())\n",
        "\n",
        "    df_mean = df.mean()\n",
        "    df_std = df.std()\n",
        "    return print(f\"Média sem dados nulos:\\n{df_mean}\\n\\nDesvio padrão sem dados nulos:\\n{df_std}\")\n",
        "\n",
        "df_nan_median = df.copy()\n",
        "fillna_median(df_nan_median)"
      ],
      "metadata": {
        "colab": {
          "base_uri": "https://localhost:8080/"
        },
        "id": "-Qp6CpB27-YH",
        "outputId": "d867f9cf-b973-41ff-ca52-db69cfc11727"
      },
      "execution_count": 20,
      "outputs": [
        {
          "output_type": "stream",
          "name": "stdout",
          "text": [
            "Média sem dados nulos:\n",
            "Linguagens              514.578415\n",
            "Ciências humanas        526.880850\n",
            "Ciências da natureza    499.520391\n",
            "Matemática              535.759100\n",
            "Redação                 637.432194\n",
            "dtype: float64\n",
            "\n",
            "Desvio padrão sem dados nulos:\n",
            "Linguagens               79.560876\n",
            "Ciências humanas         75.280340\n",
            "Ciências da natureza     71.488051\n",
            "Matemática               83.290104\n",
            "Redação                 106.956723\n",
            "dtype: float64\n"
          ]
        }
      ]
    },
    {
      "cell_type": "code",
      "source": [
        "# substituindo dados nulos por 'moda'\n",
        "\n",
        "def fillna_mode(df):\n",
        "    for column in df.select_dtypes(include=np.number):\n",
        "        df[column] = df[column].fillna(df[column].mode())\n",
        "\n",
        "    df_mean = df.mean()\n",
        "    df_std = df.std()\n",
        "    return print(f\"Média sem dados nulos:\\n{df_mean}\\n\\nDesvio padrão sem dados nulos:\\n{df_std}\")\n",
        "\n",
        "df_nan_mode = df.copy()\n",
        "fillna_mode(df_nan_mode)"
      ],
      "metadata": {
        "colab": {
          "base_uri": "https://localhost:8080/"
        },
        "id": "xVBsf3Hq7-ao",
        "outputId": "a7e6be5d-2494-438e-ab19-e5cff030cad5"
      },
      "execution_count": 21,
      "outputs": [
        {
          "output_type": "stream",
          "name": "stdout",
          "text": [
            "Média sem dados nulos:\n",
            "Linguagens              514.524809\n",
            "Ciências humanas        527.042281\n",
            "Ciências da natureza    499.315583\n",
            "Matemática              535.965660\n",
            "Redação                 637.815381\n",
            "dtype: float64\n",
            "\n",
            "Desvio padrão sem dados nulos:\n",
            "Linguagens               84.009313\n",
            "Ciências humanas         77.811519\n",
            "Ciências da natureza     78.760404\n",
            "Matemática               86.648100\n",
            "Redação                 114.038611\n",
            "dtype: float64\n"
          ]
        }
      ]
    },
    {
      "cell_type": "markdown",
      "source": [
        "**<font color='f9e79f'> Resposta: </font>** Identificamos que a substituição dos dados nulos pela *moda* mostra-se mais efetiva, alterando menos os indicadores de média e desvio padrão dos dados."
      ],
      "metadata": {
        "id": "U_km2dib91i4"
      }
    }
  ]
}